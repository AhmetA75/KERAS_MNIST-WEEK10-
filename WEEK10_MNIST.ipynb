{
  "nbformat": 4,
  "nbformat_minor": 0,
  "metadata": {
    "colab": {
      "provenance": [],
      "authorship_tag": "ABX9TyN6QsoHT94I1QfMIJuRf2Oy",
      "include_colab_link": true
    },
    "kernelspec": {
      "name": "python3",
      "display_name": "Python 3"
    },
    "language_info": {
      "name": "python"
    },
    "accelerator": "GPU",
    "gpuClass": "standard"
  },
  "cells": [
    {
      "cell_type": "markdown",
      "metadata": {
        "id": "view-in-github",
        "colab_type": "text"
      },
      "source": [
        "<a href=\"https://colab.research.google.com/github/AhmetA75/WEEK10-MNIST/blob/main/WEEK10_MNIST.ipynb\" target=\"_parent\"><img src=\"https://colab.research.google.com/assets/colab-badge.svg\" alt=\"Open In Colab\"/></a>"
      ]
    },
    {
      "cell_type": "code",
      "execution_count": 174,
      "metadata": {
        "id": "lYuHmcmNUvQc"
      },
      "outputs": [],
      "source": [
        "from keras.utils.np_utils import to_categorical\n",
        "from keras.models import Sequential\n",
        "from keras.layers import Dense,Dropout,Flatten,Conv2D,MaxPooling2D,Activation\n",
        "from keras.optimizers import RMSprop\n",
        "from keras.preprocessing.image import ImageDataGenerator\n",
        "from keras.datasets import mnist\n",
        "from time import time\n",
        "import matplotlib.pyplot as plt\n",
        "import numpy as np\n",
        "import pandas as pd"
      ]
    },
    {
      "cell_type": "code",
      "source": [
        "from keras.utils.data_utils import random\n",
        "import cv2\n",
        "import numpy as np\n",
        "from google.colab.patches import cv2_imshow"
      ],
      "metadata": {
        "id": "ai2GWBWDQCGY"
      },
      "execution_count": 230,
      "outputs": []
    },
    {
      "cell_type": "code",
      "source": [
        "(x_train,y_train),(x_test,y_test)=mnist.load_data()\n",
        "x_train=x_train.reshape(x_train.shape[0],28,28,1)\n",
        "x_test=x_test.reshape(x_test.shape[0],28,28,1)\n",
        "x_train=x_train.astype(\"float32\")\n",
        "x_test=x_test.astype(\"float32\")\n",
        "x_train/=255\n",
        "x_test/=255\n",
        "y_train=to_categorical(y_train)\n",
        "y_test=to_categorical(y_test)"
      ],
      "metadata": {
        "id": "Zol0ZOVVVQt1"
      },
      "execution_count": 175,
      "outputs": []
    },
    {
      "cell_type": "code",
      "source": [
        "model=Sequential()\n",
        "model.add(Conv2D(32,(3,3),activation=\"relu\",input_shape=(28,28,1)))\n",
        "model.add(Conv2D(64,(3,3),padding=\"same\",activation=\"relu\"))\n",
        "model.add(MaxPooling2D(pool_size=(2,2)))\n",
        "model.add(Conv2D(128,(3,3)))\n",
        "model.add(Activation(\"relu\"))\n",
        "model.add(Conv2D(64,(3,3)))\n",
        "model.add(Activation(\"relu\"))\n",
        "model.add(Flatten())\n",
        "model.add(Dense(256,activation=\"relu\"))\n",
        "model.add(Dropout(0.25))\n",
        "model.add(Dense(128,activation=\"relu\"))\n",
        "model.add(Dropout(0.3))\n",
        "model.add(Dense(10,activation=\"softmax\"))\n",
        "\n",
        "optimizer=RMSprop(learning_rate=0.001)\n",
        "model.compile(optimizer=optimizer,loss=\"categorical_crossentropy\",metrics=[\"accuracy\"])\n",
        "\n",
        "batch_size=32\n",
        "epochs=10\n",
        "print(model.summary())"
      ],
      "metadata": {
        "colab": {
          "base_uri": "https://localhost:8080/"
        },
        "id": "XXqo4LG7Vack",
        "outputId": "0cd8e750-9b1d-4831-e24c-5e0d254c2d38"
      },
      "execution_count": 176,
      "outputs": [
        {
          "output_type": "stream",
          "name": "stdout",
          "text": [
            "Model: \"sequential_3\"\n",
            "_________________________________________________________________\n",
            " Layer (type)                Output Shape              Param #   \n",
            "=================================================================\n",
            " conv2d_12 (Conv2D)          (None, 26, 26, 32)        320       \n",
            "                                                                 \n",
            " conv2d_13 (Conv2D)          (None, 26, 26, 64)        18496     \n",
            "                                                                 \n",
            " max_pooling2d_3 (MaxPooling  (None, 13, 13, 64)       0         \n",
            " 2D)                                                             \n",
            "                                                                 \n",
            " conv2d_14 (Conv2D)          (None, 11, 11, 128)       73856     \n",
            "                                                                 \n",
            " activation_6 (Activation)   (None, 11, 11, 128)       0         \n",
            "                                                                 \n",
            " conv2d_15 (Conv2D)          (None, 9, 9, 64)          73792     \n",
            "                                                                 \n",
            " activation_7 (Activation)   (None, 9, 9, 64)          0         \n",
            "                                                                 \n",
            " flatten_3 (Flatten)         (None, 5184)              0         \n",
            "                                                                 \n",
            " dense_9 (Dense)             (None, 256)               1327360   \n",
            "                                                                 \n",
            " dropout_6 (Dropout)         (None, 256)               0         \n",
            "                                                                 \n",
            " dense_10 (Dense)            (None, 128)               32896     \n",
            "                                                                 \n",
            " dropout_7 (Dropout)         (None, 128)               0         \n",
            "                                                                 \n",
            " dense_11 (Dense)            (None, 10)                1290      \n",
            "                                                                 \n",
            "=================================================================\n",
            "Total params: 1,528,010\n",
            "Trainable params: 1,528,010\n",
            "Non-trainable params: 0\n",
            "_________________________________________________________________\n",
            "None\n"
          ]
        }
      ]
    },
    {
      "cell_type": "code",
      "source": [
        "batch_sizes = list()"
      ],
      "metadata": {
        "id": "SfOFBoJc0Y8_"
      },
      "execution_count": 177,
      "outputs": []
    },
    {
      "cell_type": "code",
      "source": [
        "scores = list()"
      ],
      "metadata": {
        "id": "o0cdKl9Y0sEA"
      },
      "execution_count": 178,
      "outputs": []
    },
    {
      "cell_type": "code",
      "source": [
        "times = list()"
      ],
      "metadata": {
        "id": "fAzHbggk2UJ5"
      },
      "execution_count": 179,
      "outputs": []
    },
    {
      "cell_type": "code",
      "source": [
        "batch_size_1 = 32 \n",
        "epochs = 4\n",
        "batch_sizes.append(batch_size_1)\n",
        "start = time()\n",
        "history = model.fit(x_train,y_train,batch_size=batch_size,epochs=epochs,verbose=1,validation_data=(x_test,y_test))\n",
        "\n",
        "score_1 = model.evaluate(x_test,y_test)\n",
        "scores.append(score_1)\n",
        "stop_1 = {time()-start}\n",
        "times.append(stop_1)\n",
        "print(f'time for batch_size 32==> {time() - start}')\n",
        "print(\"test loss: \",score_1[0])\n",
        "print(\"test acc: \",score_1[1])\n",
        "\n"
      ],
      "metadata": {
        "colab": {
          "base_uri": "https://localhost:8080/"
        },
        "id": "i3TbkpXPWx2k",
        "outputId": "972a81ba-f9c3-4c90-a1fa-4ec474b6ba72"
      },
      "execution_count": 181,
      "outputs": [
        {
          "output_type": "stream",
          "name": "stdout",
          "text": [
            "Epoch 1/4\n",
            "1875/1875 [==============================] - 13s 7ms/step - loss: 0.1459 - accuracy: 0.9569 - val_loss: 0.0584 - val_accuracy: 0.9838\n",
            "Epoch 2/4\n",
            "1875/1875 [==============================] - 12s 6ms/step - loss: 0.0616 - accuracy: 0.9844 - val_loss: 0.0440 - val_accuracy: 0.9893\n",
            "Epoch 3/4\n",
            "1875/1875 [==============================] - 12s 6ms/step - loss: 0.0575 - accuracy: 0.9862 - val_loss: 0.0358 - val_accuracy: 0.9900\n",
            "Epoch 4/4\n",
            "1875/1875 [==============================] - 12s 6ms/step - loss: 0.0585 - accuracy: 0.9867 - val_loss: 0.0426 - val_accuracy: 0.9883\n",
            "313/313 [==============================] - 1s 4ms/step - loss: 0.0426 - accuracy: 0.9883\n",
            "time for batch_size 32==> 84.1941864490509\n",
            "test loss:  0.04259318485856056\n",
            "test acc:  0.9883000254631042\n"
          ]
        }
      ]
    },
    {
      "cell_type": "code",
      "source": [
        "\n",
        "batch_size_2 = 64 \n",
        "batch_sizes.append(batch_size_2)\n",
        "epochs = 4\n",
        "\n",
        "\n",
        "history = model.fit(x_train,y_train,batch_size=batch_size,epochs=epochs,verbose=1,validation_data=(x_test,y_test))\n",
        "\n",
        "score_2 = model.evaluate(x_test,y_test)\n",
        "scores.append(score_2)\n",
        "stop_2 = {time()-start}\n",
        "times.append(stop_2)\n",
        "print(\"test loss: \",score_2[0])\n",
        "print(\"test acc: \",score_2[1])"
      ],
      "metadata": {
        "colab": {
          "base_uri": "https://localhost:8080/"
        },
        "id": "m9ZWhIlHaJbp",
        "outputId": "a228b3a9-9dc7-425a-ef7a-7fd9ae1de919"
      },
      "execution_count": 182,
      "outputs": [
        {
          "output_type": "stream",
          "name": "stdout",
          "text": [
            "Epoch 1/4\n",
            "1875/1875 [==============================] - 12s 6ms/step - loss: 0.0619 - accuracy: 0.9869 - val_loss: 0.0707 - val_accuracy: 0.9886\n",
            "Epoch 2/4\n",
            "1875/1875 [==============================] - 12s 6ms/step - loss: 0.0676 - accuracy: 0.9865 - val_loss: 0.1184 - val_accuracy: 0.9853\n",
            "Epoch 3/4\n",
            "1875/1875 [==============================] - 11s 6ms/step - loss: 0.0705 - accuracy: 0.9863 - val_loss: 0.1257 - val_accuracy: 0.9799\n",
            "Epoch 4/4\n",
            "1875/1875 [==============================] - 11s 6ms/step - loss: 0.0772 - accuracy: 0.9853 - val_loss: 0.0878 - val_accuracy: 0.9836\n",
            "313/313 [==============================] - 1s 4ms/step - loss: 0.0878 - accuracy: 0.9836\n",
            "test loss:  0.08784223347902298\n",
            "test acc:  0.9836000204086304\n"
          ]
        }
      ]
    },
    {
      "cell_type": "code",
      "source": [
        "\n",
        "batch_size_3 = 128 \n",
        "epochs = 4\n",
        "batch_sizes.append(batch_size_3)\n",
        "start = time()\n",
        "history = model.fit(x_train,y_train,batch_size=batch_size,epochs=epochs,verbose=1,validation_data=(x_test,y_test))\n",
        "\n",
        "score_3 = model.evaluate(x_test,y_test)\n",
        "scores.append(score_3)\n",
        "stop_3 = {time()-start}\n",
        "times.append(stop_3)\n",
        "print(\"test loss: \",score_3[0])\n",
        "print(\"test acc: \",score_3[1])"
      ],
      "metadata": {
        "colab": {
          "base_uri": "https://localhost:8080/"
        },
        "id": "obdifhCbaNos",
        "outputId": "66e4008c-e753-4209-8dfb-dccfe59b54b0"
      },
      "execution_count": 186,
      "outputs": [
        {
          "output_type": "stream",
          "name": "stdout",
          "text": [
            "Epoch 1/4\n",
            "1875/1875 [==============================] - 12s 6ms/step - loss: 0.0764 - accuracy: 0.9854 - val_loss: 0.0580 - val_accuracy: 0.9848\n",
            "Epoch 2/4\n",
            "1875/1875 [==============================] - 11s 6ms/step - loss: 0.0922 - accuracy: 0.9844 - val_loss: 0.0620 - val_accuracy: 0.9832\n",
            "Epoch 3/4\n",
            "1875/1875 [==============================] - 11s 6ms/step - loss: 0.0812 - accuracy: 0.9841 - val_loss: 0.4335 - val_accuracy: 0.9677\n",
            "Epoch 4/4\n",
            "1875/1875 [==============================] - 11s 6ms/step - loss: 0.0913 - accuracy: 0.9837 - val_loss: 0.0665 - val_accuracy: 0.9834\n",
            "313/313 [==============================] - 1s 4ms/step - loss: 0.0665 - accuracy: 0.9834\n",
            "test loss:  0.06652335077524185\n",
            "test acc:  0.9833999872207642\n"
          ]
        }
      ]
    },
    {
      "cell_type": "code",
      "source": [
        "batch_size_4 = 256 \n",
        "batch_sizes.append(batch_size_4)\n",
        "epochs = 4\n",
        "\n",
        "start = time()\n",
        "history = model.fit(x_train,y_train,batch_size=batch_size,epochs=epochs,verbose=1,validation_data=(x_test,y_test))\n",
        "\n",
        "score_4 = model.evaluate(x_test,y_test)\n",
        "scores.append(score_4)\n",
        "stop_4 = {time()-start}\n",
        "times.append(stop_4)\n",
        "print(\"test loss: \",score_4[0])\n",
        "print(\"test acc: \",score_4[1])"
      ],
      "metadata": {
        "colab": {
          "base_uri": "https://localhost:8080/"
        },
        "id": "trCAlIhJaQKo",
        "outputId": "aa2bbe0a-0570-4698-8833-41825bbb2550"
      },
      "execution_count": 187,
      "outputs": [
        {
          "output_type": "stream",
          "name": "stdout",
          "text": [
            "Epoch 1/4\n",
            "1875/1875 [==============================] - 12s 6ms/step - loss: 0.0938 - accuracy: 0.9827 - val_loss: 0.3426 - val_accuracy: 0.8953\n",
            "Epoch 2/4\n",
            "1875/1875 [==============================] - 12s 6ms/step - loss: 0.1022 - accuracy: 0.9820 - val_loss: 0.1021 - val_accuracy: 0.9847\n",
            "Epoch 3/4\n",
            "1875/1875 [==============================] - 11s 6ms/step - loss: 0.1061 - accuracy: 0.9824 - val_loss: 0.1577 - val_accuracy: 0.9840\n",
            "Epoch 4/4\n",
            "1875/1875 [==============================] - 12s 6ms/step - loss: 0.1206 - accuracy: 0.9797 - val_loss: 0.1347 - val_accuracy: 0.9823\n",
            "313/313 [==============================] - 1s 4ms/step - loss: 0.1347 - accuracy: 0.9823\n",
            "test loss:  0.13474783301353455\n",
            "test acc:  0.9822999835014343\n"
          ]
        }
      ]
    },
    {
      "cell_type": "code",
      "source": [
        "batch_size_5 = 512\n",
        "epochs = 4\n",
        "batch_sizes.append(batch_size_5)\n",
        "\n",
        "start= time()\n",
        "history = model.fit(x_train,y_train,batch_size=batch_size,epochs=epochs,verbose=1,validation_data=(x_test,y_test))\n",
        "\n",
        "score_5= model.evaluate(x_test,y_test)\n",
        "scores.append(score_5)\n",
        "stop_5 = {time()-start}\n",
        "times.append(stop_5)\n",
        "print(\"test loss: \",score_5[0])\n",
        "print(\"test acc: \",score_5[1])"
      ],
      "metadata": {
        "colab": {
          "base_uri": "https://localhost:8080/"
        },
        "id": "FKP5kMO0aark",
        "outputId": "a3799732-e33e-473b-f9c1-d5d737b0b9c3"
      },
      "execution_count": 188,
      "outputs": [
        {
          "output_type": "stream",
          "name": "stdout",
          "text": [
            "Epoch 1/4\n",
            "1875/1875 [==============================] - 12s 6ms/step - loss: 0.1314 - accuracy: 0.9793 - val_loss: 0.0871 - val_accuracy: 0.9836\n",
            "Epoch 2/4\n",
            "1875/1875 [==============================] - 12s 6ms/step - loss: 0.1328 - accuracy: 0.9785 - val_loss: 0.1054 - val_accuracy: 0.9826\n",
            "Epoch 3/4\n",
            "1875/1875 [==============================] - 11s 6ms/step - loss: 0.1406 - accuracy: 0.9766 - val_loss: 0.0981 - val_accuracy: 0.9793\n",
            "Epoch 4/4\n",
            "1875/1875 [==============================] - 12s 6ms/step - loss: 0.1515 - accuracy: 0.9773 - val_loss: 0.0888 - val_accuracy: 0.9838\n",
            "313/313 [==============================] - 1s 4ms/step - loss: 0.0888 - accuracy: 0.9838\n",
            "test loss:  0.08879125118255615\n",
            "test acc:  0.9837999939918518\n"
          ]
        }
      ]
    },
    {
      "cell_type": "code",
      "source": [
        "batch_size_6 = 1024\n",
        "batch_sizes.append(batch_size_6)\n",
        "\n",
        "epochs = 4\n",
        "\n",
        "start= time()\n",
        "history = model.fit(x_train,y_train,batch_size=batch_size,epochs=epochs,verbose=1,validation_data=(x_test,y_test))\n",
        "\n",
        "score_6= model.evaluate(x_test,y_test)\n",
        "scores.append(score_6)\n",
        "\n",
        "stop_6 = {time()-start}\n",
        "times.append(stop_6)\n",
        "\n",
        "print(\"test loss: \",score_6[0])\n",
        "print(\"test acc: \",score_6[1])"
      ],
      "metadata": {
        "colab": {
          "base_uri": "https://localhost:8080/"
        },
        "id": "mq8tbu7cafQG",
        "outputId": "dcb872ea-c24e-4172-c90d-a020960c9e17"
      },
      "execution_count": 189,
      "outputs": [
        {
          "output_type": "stream",
          "name": "stdout",
          "text": [
            "Epoch 1/4\n",
            "1875/1875 [==============================] - 12s 6ms/step - loss: 0.1509 - accuracy: 0.9779 - val_loss: 0.0974 - val_accuracy: 0.9740\n",
            "Epoch 2/4\n",
            "1875/1875 [==============================] - 12s 6ms/step - loss: 0.1517 - accuracy: 0.9766 - val_loss: 0.0789 - val_accuracy: 0.9826\n",
            "Epoch 3/4\n",
            "1875/1875 [==============================] - 11s 6ms/step - loss: 0.1507 - accuracy: 0.9777 - val_loss: 0.2365 - val_accuracy: 0.9832\n",
            "Epoch 4/4\n",
            "1875/1875 [==============================] - 11s 6ms/step - loss: 0.1578 - accuracy: 0.9758 - val_loss: 0.1072 - val_accuracy: 0.9746\n",
            "313/313 [==============================] - 1s 3ms/step - loss: 0.1072 - accuracy: 0.9746\n",
            "test loss:  0.107246033847332\n",
            "test acc:  0.9746000170707703\n"
          ]
        }
      ]
    },
    {
      "cell_type": "code",
      "source": [
        "times"
      ],
      "metadata": {
        "colab": {
          "base_uri": "https://localhost:8080/"
        },
        "id": "TgHjvlb7JAQi",
        "outputId": "a70499eb-c214-4f45-c7e5-a7932104bdd0"
      },
      "execution_count": 211,
      "outputs": [
        {
          "output_type": "execute_result",
          "data": {
            "text/plain": [
              "[{84.1941270828247},\n",
              " {199.70007967948914},\n",
              " {83.28904294967651},\n",
              " {83.30148410797119},\n",
              " {83.27470564842224},\n",
              " {48.168163537979126}]"
            ]
          },
          "metadata": {},
          "execution_count": 211
        }
      ]
    },
    {
      "cell_type": "code",
      "source": [
        "print(type(times[0]))"
      ],
      "metadata": {
        "colab": {
          "base_uri": "https://localhost:8080/"
        },
        "id": "oAnTZ8qFJhoU",
        "outputId": "3f723f9e-2071-4cbd-9c45-d777acc2916b"
      },
      "execution_count": 231,
      "outputs": [
        {
          "output_type": "stream",
          "name": "stdout",
          "text": [
            "<class 'set'>\n"
          ]
        }
      ]
    },
    {
      "cell_type": "code",
      "source": [
        "times"
      ],
      "metadata": {
        "colab": {
          "base_uri": "https://localhost:8080/"
        },
        "id": "btFghHf_Oely",
        "outputId": "9e37ce6d-207b-4a5d-dc34-25c49bab8a9b"
      },
      "execution_count": 218,
      "outputs": [
        {
          "output_type": "execute_result",
          "data": {
            "text/plain": [
              "[{84.1941270828247},\n",
              " {199.70007967948914},\n",
              " {83.28904294967651},\n",
              " {83.30148410797119},\n",
              " {83.27470564842224},\n",
              " {48.168163537979126}]"
            ]
          },
          "metadata": {},
          "execution_count": 218
        }
      ]
    },
    {
      "cell_type": "code",
      "source": [
        "times_list = sorted(times)"
      ],
      "metadata": {
        "id": "Eu3tJqi8IOdQ"
      },
      "execution_count": null,
      "outputs": []
    },
    {
      "cell_type": "code",
      "source": [
        "print(type(times_list[0]))"
      ],
      "metadata": {
        "colab": {
          "base_uri": "https://localhost:8080/"
        },
        "id": "ttD1SECSKHcJ",
        "outputId": "17738b23-0d38-4f89-f747-f0eb5bc20b5f"
      },
      "execution_count": null,
      "outputs": [
        {
          "output_type": "stream",
          "name": "stdout",
          "text": [
            "<class 'set'>\n"
          ]
        }
      ]
    },
    {
      "cell_type": "code",
      "source": [
        "batch_sizes"
      ],
      "metadata": {
        "colab": {
          "base_uri": "https://localhost:8080/"
        },
        "id": "3kIKKUm260zc",
        "outputId": "65b26af3-5f50-4312-c6f2-095d4d69d15f"
      },
      "execution_count": 191,
      "outputs": [
        {
          "output_type": "execute_result",
          "data": {
            "text/plain": [
              "[32, 64, 128, 256, 512, 1024]"
            ]
          },
          "metadata": {},
          "execution_count": 191
        }
      ]
    },
    {
      "cell_type": "code",
      "source": [
        "scores"
      ],
      "metadata": {
        "colab": {
          "base_uri": "https://localhost:8080/"
        },
        "id": "t5qjJt_kCexX",
        "outputId": "5e29c59d-abef-4df6-a6a3-3a5a6ef35e99"
      },
      "execution_count": 192,
      "outputs": [
        {
          "output_type": "execute_result",
          "data": {
            "text/plain": [
              "[[0.04259318485856056, 0.9883000254631042],\n",
              " [0.08784223347902298, 0.9836000204086304],\n",
              " [0.06652335077524185, 0.9833999872207642],\n",
              " [0.13474783301353455, 0.9822999835014343],\n",
              " [0.08879125118255615, 0.9837999939918518],\n",
              " [0.107246033847332, 0.9746000170707703]]"
            ]
          },
          "metadata": {},
          "execution_count": 192
        }
      ]
    },
    {
      "cell_type": "code",
      "source": [
        "print(type(scores[0]))"
      ],
      "metadata": {
        "colab": {
          "base_uri": "https://localhost:8080/"
        },
        "id": "kb2NptCuKOTw",
        "outputId": "8df61391-f2ed-40f8-8f33-85094da2c42c"
      },
      "execution_count": 193,
      "outputs": [
        {
          "output_type": "stream",
          "name": "stdout",
          "text": [
            "<class 'list'>\n"
          ]
        }
      ]
    },
    {
      "cell_type": "code",
      "source": [
        "ss = pd.DataFrame(scores)\n",
        "ss"
      ],
      "metadata": {
        "colab": {
          "base_uri": "https://localhost:8080/",
          "height": 238
        },
        "id": "3-mJVS0cC2xQ",
        "outputId": "6aebb824-17d4-42e3-b673-fa5fb89beeb8"
      },
      "execution_count": 194,
      "outputs": [
        {
          "output_type": "execute_result",
          "data": {
            "text/plain": [
              "          0       1\n",
              "0  0.042593  0.9883\n",
              "1  0.087842  0.9836\n",
              "2  0.066523  0.9834\n",
              "3  0.134748  0.9823\n",
              "4  0.088791  0.9838\n",
              "5  0.107246  0.9746"
            ],
            "text/html": [
              "\n",
              "  <div id=\"df-8da9f064-018a-443e-b1d1-9c15d51348ea\">\n",
              "    <div class=\"colab-df-container\">\n",
              "      <div>\n",
              "<style scoped>\n",
              "    .dataframe tbody tr th:only-of-type {\n",
              "        vertical-align: middle;\n",
              "    }\n",
              "\n",
              "    .dataframe tbody tr th {\n",
              "        vertical-align: top;\n",
              "    }\n",
              "\n",
              "    .dataframe thead th {\n",
              "        text-align: right;\n",
              "    }\n",
              "</style>\n",
              "<table border=\"1\" class=\"dataframe\">\n",
              "  <thead>\n",
              "    <tr style=\"text-align: right;\">\n",
              "      <th></th>\n",
              "      <th>0</th>\n",
              "      <th>1</th>\n",
              "    </tr>\n",
              "  </thead>\n",
              "  <tbody>\n",
              "    <tr>\n",
              "      <th>0</th>\n",
              "      <td>0.042593</td>\n",
              "      <td>0.9883</td>\n",
              "    </tr>\n",
              "    <tr>\n",
              "      <th>1</th>\n",
              "      <td>0.087842</td>\n",
              "      <td>0.9836</td>\n",
              "    </tr>\n",
              "    <tr>\n",
              "      <th>2</th>\n",
              "      <td>0.066523</td>\n",
              "      <td>0.9834</td>\n",
              "    </tr>\n",
              "    <tr>\n",
              "      <th>3</th>\n",
              "      <td>0.134748</td>\n",
              "      <td>0.9823</td>\n",
              "    </tr>\n",
              "    <tr>\n",
              "      <th>4</th>\n",
              "      <td>0.088791</td>\n",
              "      <td>0.9838</td>\n",
              "    </tr>\n",
              "    <tr>\n",
              "      <th>5</th>\n",
              "      <td>0.107246</td>\n",
              "      <td>0.9746</td>\n",
              "    </tr>\n",
              "  </tbody>\n",
              "</table>\n",
              "</div>\n",
              "      <button class=\"colab-df-convert\" onclick=\"convertToInteractive('df-8da9f064-018a-443e-b1d1-9c15d51348ea')\"\n",
              "              title=\"Convert this dataframe to an interactive table.\"\n",
              "              style=\"display:none;\">\n",
              "        \n",
              "  <svg xmlns=\"http://www.w3.org/2000/svg\" height=\"24px\"viewBox=\"0 0 24 24\"\n",
              "       width=\"24px\">\n",
              "    <path d=\"M0 0h24v24H0V0z\" fill=\"none\"/>\n",
              "    <path d=\"M18.56 5.44l.94 2.06.94-2.06 2.06-.94-2.06-.94-.94-2.06-.94 2.06-2.06.94zm-11 1L8.5 8.5l.94-2.06 2.06-.94-2.06-.94L8.5 2.5l-.94 2.06-2.06.94zm10 10l.94 2.06.94-2.06 2.06-.94-2.06-.94-.94-2.06-.94 2.06-2.06.94z\"/><path d=\"M17.41 7.96l-1.37-1.37c-.4-.4-.92-.59-1.43-.59-.52 0-1.04.2-1.43.59L10.3 9.45l-7.72 7.72c-.78.78-.78 2.05 0 2.83L4 21.41c.39.39.9.59 1.41.59.51 0 1.02-.2 1.41-.59l7.78-7.78 2.81-2.81c.8-.78.8-2.07 0-2.86zM5.41 20L4 18.59l7.72-7.72 1.47 1.35L5.41 20z\"/>\n",
              "  </svg>\n",
              "      </button>\n",
              "      \n",
              "  <style>\n",
              "    .colab-df-container {\n",
              "      display:flex;\n",
              "      flex-wrap:wrap;\n",
              "      gap: 12px;\n",
              "    }\n",
              "\n",
              "    .colab-df-convert {\n",
              "      background-color: #E8F0FE;\n",
              "      border: none;\n",
              "      border-radius: 50%;\n",
              "      cursor: pointer;\n",
              "      display: none;\n",
              "      fill: #1967D2;\n",
              "      height: 32px;\n",
              "      padding: 0 0 0 0;\n",
              "      width: 32px;\n",
              "    }\n",
              "\n",
              "    .colab-df-convert:hover {\n",
              "      background-color: #E2EBFA;\n",
              "      box-shadow: 0px 1px 2px rgba(60, 64, 67, 0.3), 0px 1px 3px 1px rgba(60, 64, 67, 0.15);\n",
              "      fill: #174EA6;\n",
              "    }\n",
              "\n",
              "    [theme=dark] .colab-df-convert {\n",
              "      background-color: #3B4455;\n",
              "      fill: #D2E3FC;\n",
              "    }\n",
              "\n",
              "    [theme=dark] .colab-df-convert:hover {\n",
              "      background-color: #434B5C;\n",
              "      box-shadow: 0px 1px 3px 1px rgba(0, 0, 0, 0.15);\n",
              "      filter: drop-shadow(0px 1px 2px rgba(0, 0, 0, 0.3));\n",
              "      fill: #FFFFFF;\n",
              "    }\n",
              "  </style>\n",
              "\n",
              "      <script>\n",
              "        const buttonEl =\n",
              "          document.querySelector('#df-8da9f064-018a-443e-b1d1-9c15d51348ea button.colab-df-convert');\n",
              "        buttonEl.style.display =\n",
              "          google.colab.kernel.accessAllowed ? 'block' : 'none';\n",
              "\n",
              "        async function convertToInteractive(key) {\n",
              "          const element = document.querySelector('#df-8da9f064-018a-443e-b1d1-9c15d51348ea');\n",
              "          const dataTable =\n",
              "            await google.colab.kernel.invokeFunction('convertToInteractive',\n",
              "                                                     [key], {});\n",
              "          if (!dataTable) return;\n",
              "\n",
              "          const docLinkHtml = 'Like what you see? Visit the ' +\n",
              "            '<a target=\"_blank\" href=https://colab.research.google.com/notebooks/data_table.ipynb>data table notebook</a>'\n",
              "            + ' to learn more about interactive tables.';\n",
              "          element.innerHTML = '';\n",
              "          dataTable['output_type'] = 'display_data';\n",
              "          await google.colab.output.renderOutput(dataTable, element);\n",
              "          const docLink = document.createElement('div');\n",
              "          docLink.innerHTML = docLinkHtml;\n",
              "          element.appendChild(docLink);\n",
              "        }\n",
              "      </script>\n",
              "    </div>\n",
              "  </div>\n",
              "  "
            ]
          },
          "metadata": {},
          "execution_count": 194
        }
      ]
    },
    {
      "cell_type": "code",
      "source": [
        "ss.drop(ss.columns[0], axis = 1, inplace=True)"
      ],
      "metadata": {
        "id": "CZUf146fDHf3"
      },
      "execution_count": 195,
      "outputs": []
    },
    {
      "cell_type": "code",
      "source": [
        "type(times)"
      ],
      "metadata": {
        "colab": {
          "base_uri": "https://localhost:8080/"
        },
        "id": "-SheAh9nO8wa",
        "outputId": "21ff5ebd-0e8c-4ee5-dee2-c7387e3db5ba"
      },
      "execution_count": 220,
      "outputs": [
        {
          "output_type": "execute_result",
          "data": {
            "text/plain": [
              "list"
            ]
          },
          "metadata": {},
          "execution_count": 220
        }
      ]
    },
    {
      "cell_type": "code",
      "source": [
        "times_1 = (84.19,199.7,83.28,83.3,83.27,48.16)"
      ],
      "metadata": {
        "id": "B3rEFxF3PSiF"
      },
      "execution_count": 226,
      "outputs": []
    },
    {
      "cell_type": "code",
      "source": [
        "line1 = plt.plot(ss,batch_sizes,label=\"Batch_size with score\")\n",
        "line2 = plt.plot(ss,times_1,label=\"score with time\")\n",
        "plt.xlabel(\"Batch_size\")\n",
        "plt.ylabel(\"time\")\n",
        "plt.grid(True)\n",
        "plt.legend()\n",
        "plt.show()"
      ],
      "metadata": {
        "colab": {
          "base_uri": "https://localhost:8080/",
          "height": 280
        },
        "id": "OTnlcTIA6xCu",
        "outputId": "898dbd88-9318-4d28-bd18-679efcf9bf8a"
      },
      "execution_count": 229,
      "outputs": [
        {
          "output_type": "display_data",
          "data": {
            "text/plain": [
              "<Figure size 432x288 with 1 Axes>"
            ],
            "image/png": "[encoded data removed]"
          },
          "metadata": {
            "needs_background": "light"
          }
        }
      ]
    }
  ]
}